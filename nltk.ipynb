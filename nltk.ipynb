{
 "cells": [
  {
   "cell_type": "code",
   "execution_count": 1,
   "metadata": {},
   "outputs": [],
   "source": [
    "import nltk"
   ]
  },
  {
   "cell_type": "code",
   "execution_count": 2,
   "metadata": {},
   "outputs": [
    {
     "name": "stdout",
     "output_type": "stream",
     "text": [
      "showing info https://raw.githubusercontent.com/nltk/nltk_data/gh-pages/index.xml\n"
     ]
    },
    {
     "data": {
      "text/plain": [
       "True"
      ]
     },
     "execution_count": 2,
     "metadata": {},
     "output_type": "execute_result"
    }
   ],
   "source": [
    "nltk.download()"
   ]
  },
  {
   "cell_type": "code",
   "execution_count": 3,
   "metadata": {},
   "outputs": [],
   "source": [
    "from nltk.corpus import brown"
   ]
  },
  {
   "cell_type": "code",
   "execution_count": 5,
   "metadata": {},
   "outputs": [
    {
     "name": "stdout",
     "output_type": "stream",
     "text": [
      "['adventure', 'belles_lettres', 'editorial', 'fiction', 'government', 'hobbies', 'humor', 'learned', 'lore', 'mystery', 'news', 'religion', 'reviews', 'romance', 'science_fiction']\n"
     ]
    }
   ],
   "source": [
    "print(brown.categories())"
   ]
  },
  {
   "cell_type": "code",
   "execution_count": 6,
   "metadata": {},
   "outputs": [
    {
     "name": "stdout",
     "output_type": "stream",
     "text": [
      "<class 'list'>\n"
     ]
    }
   ],
   "source": [
    "print(type(brown.categories()))"
   ]
  },
  {
   "cell_type": "code",
   "execution_count": 9,
   "metadata": {},
   "outputs": [
    {
     "name": "stdout",
     "output_type": "stream",
     "text": [
      "15\n"
     ]
    }
   ],
   "source": [
    "print(len(brown.categories()))"
   ]
  },
  {
   "cell_type": "code",
   "execution_count": 12,
   "metadata": {},
   "outputs": [],
   "source": [
    "data=brown.sents(categories='adventure')"
   ]
  },
  {
   "cell_type": "code",
   "execution_count": 14,
   "metadata": {},
   "outputs": [
    {
     "data": {
      "text/plain": [
       "'He'"
      ]
     },
     "execution_count": 14,
     "metadata": {},
     "output_type": "execute_result"
    }
   ],
   "source": [
    "data[1][0]"
   ]
  },
  {
   "cell_type": "code",
   "execution_count": 15,
   "metadata": {},
   "outputs": [
    {
     "data": {
      "text/plain": [
       "'He was well rid of her .'"
      ]
     },
     "execution_count": 15,
     "metadata": {},
     "output_type": "execute_result"
    }
   ],
   "source": [
    "' '.join(data[1])"
   ]
  },
  {
   "cell_type": "code",
   "execution_count": 18,
   "metadata": {},
   "outputs": [],
   "source": [
    "document= \"\"\" It was a cool day. The weather was pleasant. I went to the market.\"\"\" \n",
    "from nltk.tokenize import sent_tokenize,word_tokenize"
   ]
  },
  {
   "cell_type": "code",
   "execution_count": 22,
   "metadata": {},
   "outputs": [],
   "source": [
    "sents=sent_tokenize(document)"
   ]
  },
  {
   "cell_type": "code",
   "execution_count": 21,
   "metadata": {},
   "outputs": [
    {
     "name": "stderr",
     "output_type": "stream",
     "text": [
      "[nltk_data] Downloading package punkt to\n",
      "[nltk_data]     C:\\Users\\user\\AppData\\Roaming\\nltk_data...\n",
      "[nltk_data]   Unzipping tokenizers\\punkt.zip.\n"
     ]
    },
    {
     "data": {
      "text/plain": [
       "True"
      ]
     },
     "execution_count": 21,
     "metadata": {},
     "output_type": "execute_result"
    }
   ],
   "source": [
    "nltk.download('punkt')"
   ]
  },
  {
   "cell_type": "code",
   "execution_count": 23,
   "metadata": {},
   "outputs": [
    {
     "name": "stdout",
     "output_type": "stream",
     "text": [
      "[' It was a cool day.', 'The weather was pleasant.', 'I went to the market.']\n"
     ]
    }
   ],
   "source": [
    "print(sents)"
   ]
  },
  {
   "cell_type": "code",
   "execution_count": 29,
   "metadata": {},
   "outputs": [
    {
     "name": "stderr",
     "output_type": "stream",
     "text": [
      "[nltk_data] Downloading package stopwords to\n",
      "[nltk_data]     C:\\Users\\user\\AppData\\Roaming\\nltk_data...\n",
      "[nltk_data]   Package stopwords is already up-to-date!\n"
     ]
    },
    {
     "data": {
      "text/plain": [
       "True"
      ]
     },
     "execution_count": 29,
     "metadata": {},
     "output_type": "execute_result"
    }
   ],
   "source": [
    "nltk.download('stopwords')"
   ]
  },
  {
   "cell_type": "code",
   "execution_count": 30,
   "metadata": {},
   "outputs": [],
   "source": [
    "from nltk.corpus import stopwords"
   ]
  },
  {
   "cell_type": "code",
   "execution_count": 31,
   "metadata": {},
   "outputs": [],
   "source": [
    "sw=set(stopwords.words('english'))"
   ]
  },
  {
   "cell_type": "code",
   "execution_count": 32,
   "metadata": {},
   "outputs": [
    {
     "name": "stdout",
     "output_type": "stream",
     "text": [
      "{'as', 'yourselves', 'by', 'that', 'other', 'no', 'down', 'during', \"didn't\", 'doing', 'hers', \"don't\", 'you', 'to', 'when', 'whom', \"couldn't\", 'those', 'had', 'we', 'can', \"that'll\", 'are', \"hasn't\", 'being', \"you're\", 'll', 'he', 'until', 'under', 'or', 'once', 'again', \"weren't\", 'into', 'mustn', 'yours', 'having', 'because', 'them', 'y', 'than', \"isn't\", 'be', 'this', \"mustn't\", \"wasn't\", 'm', 'i', 'me', 'same', 'over', 'will', 'weren', 'how', 're', \"you'll\", \"aren't\", 'all', 'aren', 'any', 'so', 'didn', 'before', 'him', 'but', 'don', 'nor', 'what', 'theirs', 'isn', 'our', 'of', 'above', \"hadn't\", 'these', 'd', 'ma', 'she', 'very', 'themselves', 'hasn', 'few', \"should've\", 'yourself', 'a', 'more', 'some', 'haven', 'the', 'herself', 'hadn', 'myself', 'own', 'mightn', 'while', \"doesn't\", 'further', 's', 'does', 'its', 'from', 'now', 'my', 'such', 'ain', 'have', 'and', 'for', 'is', 'ourselves', 'her', 'needn', 'shouldn', 'up', 'did', 'with', 'here', 'wouldn', \"it's\", 'who', 'am', 'most', 'should', \"shouldn't\", 'your', 'wasn', 'then', 'not', 've', 'at', 'shan', 'won', 'through', \"mightn't\", 'only', \"you've\", 'below', 'which', 'couldn', 'it', 'an', 'doesn', 'they', 'been', \"wouldn't\", 'where', \"needn't\", 'just', \"haven't\", 'both', 'on', \"she's\", 't', 'if', 'there', 'has', 'were', 'in', 'itself', 'between', 'was', \"won't\", 'why', \"shan't\", 'after', 'o', 'about', \"you'd\", 'his', 'too', 'each', 'against', 'do', 'their', 'off', 'himself', 'ours', 'out'}\n"
     ]
    }
   ],
   "source": [
    "print(sw)"
   ]
  },
  {
   "cell_type": "code",
   "execution_count": 34,
   "metadata": {},
   "outputs": [
    {
     "name": "stdout",
     "output_type": "stream",
     "text": [
      "['useful', 'purpose']\n"
     ]
    }
   ],
   "source": [
    "text=\"i am not that useful for this purpose\".split()\n",
    "def remove_useless(text,stopwords):\n",
    "    useful=[w for w in text if w not in stopwords]\n",
    "    return useful\n",
    "\n",
    "print(remove_useless(text,sw))"
   ]
  },
  {
   "cell_type": "markdown",
   "metadata": {},
   "source": [
    "# stemming"
   ]
  },
  {
   "cell_type": "code",
   "execution_count": 1,
   "metadata": {},
   "outputs": [],
   "source": [
    "from nltk.stem.snowball import SnowballStemmer,PorterStemmer\n",
    "from nltk.stem.lancaster import LancasterStemmer"
   ]
  },
  {
   "cell_type": "code",
   "execution_count": 5,
   "metadata": {},
   "outputs": [
    {
     "data": {
      "text/plain": [
       "'jump'"
      ]
     },
     "execution_count": 5,
     "metadata": {},
     "output_type": "execute_result"
    }
   ],
   "source": [
    "sentence=\"I Love Jumping.My brother loves to jump.\"\n",
    "ps=PorterStemmer()\n",
    "ps.stem('Jumping')"
   ]
  },
  {
   "cell_type": "code",
   "execution_count": 6,
   "metadata": {},
   "outputs": [
    {
     "data": {
      "text/plain": [
       "'i love jumping.my brother loves to jump.'"
      ]
     },
     "execution_count": 6,
     "metadata": {},
     "output_type": "execute_result"
    }
   ],
   "source": [
    "ps.stem(sentence)"
   ]
  },
  {
   "cell_type": "code",
   "execution_count": 1,
   "metadata": {},
   "outputs": [],
   "source": [
    "corpus=['Indian cricket team will win the world cup says virat.',\n",
    "       'he will win lok sabha elect says indian pm.',\n",
    "       'the nobel laureate won the hearts of the people.',\n",
    "       'Raazi is an exciting indian thriller based on a true story']\n",
    "from sklearn.feature_extraction.text import CountVectorizer\n",
    "cv=CountVectorizer()\n",
    "vectorised_corpus=cv.fit_transform(corpus)\n",
    "\n"
   ]
  },
  {
   "cell_type": "code",
   "execution_count": 2,
   "metadata": {},
   "outputs": [
    {
     "name": "stdout",
     "output_type": "stream",
     "text": [
      "<class 'scipy.sparse.csr.csr_matrix'>\n"
     ]
    }
   ],
   "source": [
    "print(type(vectorised_corpus))"
   ]
  },
  {
   "cell_type": "code",
   "execution_count": 3,
   "metadata": {},
   "outputs": [
    {
     "name": "stdout",
     "output_type": "stream",
     "text": [
      "  (0, 8)\t1\n",
      "  (0, 2)\t1\n",
      "  (0, 21)\t1\n",
      "  (0, 26)\t1\n",
      "  (0, 27)\t1\n",
      "  (0, 22)\t1\n",
      "  (0, 29)\t1\n",
      "  (0, 3)\t1\n",
      "  (0, 19)\t1\n",
      "  (0, 25)\t1\n",
      "  (1, 8)\t1\n",
      "  (1, 26)\t1\n",
      "  (1, 27)\t1\n",
      "  (1, 19)\t1\n",
      "  (1, 6)\t1\n",
      "  (1, 11)\t1\n",
      "  (1, 18)\t1\n",
      "  (1, 4)\t1\n",
      "  (1, 16)\t1\n",
      "  (2, 22)\t3\n",
      "  (2, 12)\t1\n",
      "  (2, 10)\t1\n",
      "  (2, 28)\t1\n",
      "  (2, 7)\t1\n",
      "  (2, 13)\t1\n",
      "  (2, 15)\t1\n",
      "  (3, 8)\t1\n",
      "  (3, 17)\t1\n",
      "  (3, 9)\t1\n",
      "  (3, 0)\t1\n",
      "  (3, 5)\t1\n",
      "  (3, 23)\t1\n",
      "  (3, 1)\t1\n",
      "  (3, 14)\t1\n",
      "  (3, 24)\t1\n",
      "  (3, 20)\t1\n"
     ]
    }
   ],
   "source": [
    "print(vectorised_corpus)"
   ]
  },
  {
   "cell_type": "code",
   "execution_count": 4,
   "metadata": {},
   "outputs": [],
   "source": [
    "vectorised_corpus=vectorised_corpus.toarray()"
   ]
  },
  {
   "cell_type": "code",
   "execution_count": 8,
   "metadata": {},
   "outputs": [
    {
     "name": "stdout",
     "output_type": "stream",
     "text": [
      "30\n"
     ]
    }
   ],
   "source": [
    "print(len(vectorised_corpus[0]))"
   ]
  },
  {
   "cell_type": "code",
   "execution_count": 9,
   "metadata": {},
   "outputs": [
    {
     "data": {
      "text/plain": [
       "{'indian': 8,\n",
       " 'cricket': 2,\n",
       " 'team': 21,\n",
       " 'will': 26,\n",
       " 'win': 27,\n",
       " 'the': 22,\n",
       " 'world': 29,\n",
       " 'cup': 3,\n",
       " 'says': 19,\n",
       " 'virat': 25,\n",
       " 'he': 6,\n",
       " 'lok': 11,\n",
       " 'sabha': 18,\n",
       " 'elect': 4,\n",
       " 'pm': 16,\n",
       " 'nobel': 12,\n",
       " 'laureate': 10,\n",
       " 'won': 28,\n",
       " 'hearts': 7,\n",
       " 'of': 13,\n",
       " 'people': 15,\n",
       " 'raazi': 17,\n",
       " 'is': 9,\n",
       " 'an': 0,\n",
       " 'exciting': 5,\n",
       " 'thriller': 23,\n",
       " 'based': 1,\n",
       " 'on': 14,\n",
       " 'true': 24,\n",
       " 'story': 20}"
      ]
     },
     "execution_count": 9,
     "metadata": {},
     "output_type": "execute_result"
    }
   ],
   "source": [
    "cv.vocabulary_"
   ]
  },
  {
   "cell_type": "code",
   "execution_count": 10,
   "metadata": {},
   "outputs": [
    {
     "data": {
      "text/plain": [
       "array([0, 0, 0, 0, 1, 0, 1, 0, 1, 0, 0, 1, 0, 0, 0, 0, 1, 0, 1, 1, 0, 0,\n",
       "       0, 0, 0, 0, 1, 1, 0, 0], dtype=int64)"
      ]
     },
     "execution_count": 10,
     "metadata": {},
     "output_type": "execute_result"
    }
   ],
   "source": [
    "numbers=vectorised_corpus[1]\n",
    "numbers"
   ]
  },
  {
   "cell_type": "code",
   "execution_count": 13,
   "metadata": {},
   "outputs": [
    {
     "data": {
      "text/plain": [
       "[array(['elect', 'he', 'indian', 'lok', 'pm', 'sabha', 'says', 'will',\n",
       "        'win'], dtype='<U8')]"
      ]
     },
     "execution_count": 13,
     "metadata": {},
     "output_type": "execute_result"
    }
   ],
   "source": [
    "cv.inverse_transform(numbers)"
   ]
  },
  {
   "cell_type": "code",
   "execution_count": null,
   "metadata": {},
   "outputs": [],
   "source": []
  }
 ],
 "metadata": {
  "kernelspec": {
   "display_name": "Python 3",
   "language": "python",
   "name": "python3"
  },
  "language_info": {
   "codemirror_mode": {
    "name": "ipython",
    "version": 3
   },
   "file_extension": ".py",
   "mimetype": "text/x-python",
   "name": "python",
   "nbconvert_exporter": "python",
   "pygments_lexer": "ipython3",
   "version": "3.8.1"
  }
 },
 "nbformat": 4,
 "nbformat_minor": 4
}
